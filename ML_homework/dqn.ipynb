{
 "cells": [
  {
   "cell_type": "code",
   "execution_count": 2,
   "metadata": {
    "collapsed": true
   },
   "outputs": [],
   "source": [
    "import matplotlib.pyplot as plt\n",
    "import seaborn as sns\n",
    "import pandas as pd\n",
    "import numpy as np\n",
    "import sqlite3\n",
    "import os\n",
    "import glob\n",
    "\n",
    "sns.set()\n",
    "con = sqlite3.connect(\"./data.db\")\n",
    "\n",
    "# con.enable_load_extension(True)\n",
    "# con.load_extension(\"./extension-functions\")\n",
    "\n",
    "if not os.path.exists(\"graphs\"):\n",
    "    os.makedirs(\"graphs\")\n",
    "    \n",
    "TABLE = 'dqn'"
   ]
  },
  {
   "cell_type": "code",
   "execution_count": 4,
   "metadata": {},
   "outputs": [],
   "source": [
    "try:\n",
    "    con.execute('drop table ' + TABLE)\n",
    "except sqlite3.OperationalError:\n",
    "    pass\n",
    "files = glob.glob(\"ML_homework/results/duel*.csv\")\n",
    "with open(\"./cmd.txt\", 'r') as cmd:\n",
    "    for file in files:\n",
    "        df = pd.read_csv(file)\n",
    "        if os.path.split(file)[-1] == \"duel_dqn_learning.csv\":\n",
    "            df = df.assign(env=['basic'] * df.shape[0])\n",
    "        else:\n",
    "            df = df.assign(env=['complex'] * df.shape[0])\n",
    "        \n",
    "        dir = file.split('/')[-2]\n",
    "        dir_num = int(dir[11:])\n",
    "        \n",
    "        cmd.seek(0)\n",
    "        for i, line in enumerate(cmd):\n",
    "            if i == dir_num:\n",
    "                break\n",
    "        values = line.split(' ')\n",
    "        df = df.assign(load_memory=[values[1]] * df.shape[0])\n",
    "        df = df.assign(exploration_lenght=[values[3]] * df.shape[0])\n",
    "        df.to_sql(TABLE, con, if_exists='append')"
   ]
  }
 ],
 "metadata": {
  "kernelspec": {
   "display_name": "Python 2",
   "language": "python",
   "name": "python2"
  },
  "language_info": {
   "codemirror_mode": {
    "name": "ipython",
    "version": 2
   },
   "file_extension": ".py",
   "mimetype": "text/x-python",
   "name": "python",
   "nbconvert_exporter": "python",
   "pygments_lexer": "ipython2",
   "version": "2.7.6"
  }
 },
 "nbformat": 4,
 "nbformat_minor": 0
}
